{
 "cells": [
  {
   "cell_type": "code",
   "execution_count": 6,
   "metadata": {},
   "outputs": [],
   "source": [
    "import os\n",
    "import glob\n",
    "import pandas as pd\n",
    "from datetime import datetime\n",
    "os.chdir('C:/Users/ww/Documents/Data/self-study/relativesearch202100401-0430/')"
   ]
  },
  {
   "cell_type": "markdown",
   "metadata": {},
   "source": [
    "I am saving the past month name which will appear in the plot."
   ]
  },
  {
   "cell_type": "code",
   "execution_count": 7,
   "metadata": {
    "scrolled": true
   },
   "outputs": [
    {
     "name": "stdout",
     "output_type": "stream",
     "text": [
      "Past month: April 2021\n"
     ]
    }
   ],
   "source": [
    "from datetime import date, timedelta\n",
    "\n",
    "first_day_of_current_month = date.today().replace(day=1)\n",
    "last_day_of_previous_month = first_day_of_current_month - timedelta(days=1)\n",
    "\n",
    "print(\"Past month:\", last_day_of_previous_month.strftime('%B'), last_day_of_previous_month.year)"
   ]
  },
  {
   "cell_type": "markdown",
   "metadata": {},
   "source": [
    "Let's extract dataset filenames (which are also keywords) from the directory folder."
   ]
  },
  {
   "cell_type": "code",
   "execution_count": 8,
   "metadata": {},
   "outputs": [],
   "source": [
    "extension = 'csv'\n",
    "all_filenames = [i for i in glob.glob('*.{}'.format(extension))]"
   ]
  },
  {
   "cell_type": "code",
   "execution_count": 9,
   "metadata": {
    "scrolled": false
   },
   "outputs": [
    {
     "data": {
      "text/plain": [
       "['relative search - blockchain.csv',\n",
       " 'relative search - fintech.csv',\n",
       " 'relative search - insurtech.csv',\n",
       " 'relative search - lending.csv',\n",
       " 'relative search - mobile payments.csv',\n",
       " 'relative search - open banking.csv',\n",
       " 'relative search - personal finance.csv',\n",
       " 'relative search - regtech.csv',\n",
       " 'relative search - remittance.csv',\n",
       " 'relative search - virtual banking.csv']"
      ]
     },
     "execution_count": 9,
     "metadata": {},
     "output_type": "execute_result"
    }
   ],
   "source": [
    "all_filenames"
   ]
  },
  {
   "cell_type": "markdown",
   "metadata": {},
   "source": [
    "Importing datasets and merging the tables by column 'Country'"
   ]
  },
  {
   "cell_type": "code",
   "execution_count": 10,
   "metadata": {},
   "outputs": [],
   "source": [
    "data = None\n",
    "filelist = all_filenames\n",
    "for f in filelist:\n",
    "    if data is None:\n",
    "        data = pd.read_csv(f, index_col='Country',skiprows=2)\n",
    "    else:\n",
    "        data = data.join(pd.read_csv(f, index_col='Country',skiprows=2))"
   ]
  },
  {
   "cell_type": "markdown",
   "metadata": {},
   "source": [
    "Some datasets have Dtype 'object' (i.e. have characters instead of numbers), cause while extracting them I wanted to include the smallest values, it didn't change anything except that it gave a few countries a value of \"<1\" in those datasets."
   ]
  },
  {
   "cell_type": "code",
   "execution_count": 11,
   "metadata": {},
   "outputs": [
    {
     "name": "stdout",
     "output_type": "stream",
     "text": [
      "<class 'pandas.core.frame.DataFrame'>\n",
      "Index: 250 entries, Togo to Zambia\n",
      "Data columns (total 10 columns):\n",
      " #   Column                                            Non-Null Count  Dtype  \n",
      "---  ------                                            --------------  -----  \n",
      " 0   blockchain: (01/04/2021 - 30/04/2021)             84 non-null     float64\n",
      " 1   Financial technology: (01/04/2021 - 30/04/2021)   70 non-null     object \n",
      " 2   Insurtech: (01/04/2021 - 30/04/2021)              19 non-null     float64\n",
      " 3   lending: (01/04/2021 - 30/04/2021)                40 non-null     object \n",
      " 4   mobile payments: (01/04/2021 - 30/04/2021)        8 non-null      float64\n",
      " 5   Open banking: (01/04/2021 - 30/04/2021)           31 non-null     float64\n",
      " 6   Personal finance: (01/04/2021 - 30/04/2021)       56 non-null     object \n",
      " 7   Regulatory technology: (01/04/2021 - 30/04/2021)  9 non-null      float64\n",
      " 8   Remittance: (01/04/2021 - 30/04/2021)             61 non-null     object \n",
      " 9   virtual banking: (01/04/2021 - 30/04/2021)        13 non-null     float64\n",
      "dtypes: float64(6), object(4)\n",
      "memory usage: 29.6+ KB\n"
     ]
    }
   ],
   "source": [
    "data.info()"
   ]
  },
  {
   "cell_type": "markdown",
   "metadata": {},
   "source": [
    "That's why I am replacing \"<1\" by 0."
   ]
  },
  {
   "cell_type": "code",
   "execution_count": 12,
   "metadata": {},
   "outputs": [],
   "source": [
    "data = data.replace('<1',0)"
   ]
  },
  {
   "cell_type": "markdown",
   "metadata": {},
   "source": [
    "Changing all the data from type object to type float64 for analysis."
   ]
  },
  {
   "cell_type": "code",
   "execution_count": 13,
   "metadata": {},
   "outputs": [],
   "source": [
    "column_names = data.columns.tolist()"
   ]
  },
  {
   "cell_type": "code",
   "execution_count": 14,
   "metadata": {},
   "outputs": [
    {
     "data": {
      "text/plain": [
       "['blockchain: (01/04/2021 - 30/04/2021)',\n",
       " 'Financial technology: (01/04/2021 - 30/04/2021)',\n",
       " 'Insurtech: (01/04/2021 - 30/04/2021)',\n",
       " 'lending: (01/04/2021 - 30/04/2021)',\n",
       " 'mobile payments: (01/04/2021 - 30/04/2021)',\n",
       " 'Open banking: (01/04/2021 - 30/04/2021)',\n",
       " 'Personal finance: (01/04/2021 - 30/04/2021)',\n",
       " 'Regulatory technology: (01/04/2021 - 30/04/2021)',\n",
       " 'Remittance: (01/04/2021 - 30/04/2021)',\n",
       " 'virtual banking: (01/04/2021 - 30/04/2021)']"
      ]
     },
     "execution_count": 14,
     "metadata": {},
     "output_type": "execute_result"
    }
   ],
   "source": [
    "column_names"
   ]
  },
  {
   "cell_type": "code",
   "execution_count": 15,
   "metadata": {},
   "outputs": [],
   "source": [
    "data[column_names] = data[column_names].astype('float64')"
   ]
  },
  {
   "cell_type": "code",
   "execution_count": 16,
   "metadata": {
    "scrolled": true
   },
   "outputs": [
    {
     "name": "stdout",
     "output_type": "stream",
     "text": [
      "<class 'pandas.core.frame.DataFrame'>\n",
      "Index: 250 entries, Togo to Zambia\n",
      "Data columns (total 10 columns):\n",
      " #   Column                                            Non-Null Count  Dtype  \n",
      "---  ------                                            --------------  -----  \n",
      " 0   blockchain: (01/04/2021 - 30/04/2021)             84 non-null     float64\n",
      " 1   Financial technology: (01/04/2021 - 30/04/2021)   70 non-null     float64\n",
      " 2   Insurtech: (01/04/2021 - 30/04/2021)              19 non-null     float64\n",
      " 3   lending: (01/04/2021 - 30/04/2021)                40 non-null     float64\n",
      " 4   mobile payments: (01/04/2021 - 30/04/2021)        8 non-null      float64\n",
      " 5   Open banking: (01/04/2021 - 30/04/2021)           31 non-null     float64\n",
      " 6   Personal finance: (01/04/2021 - 30/04/2021)       56 non-null     float64\n",
      " 7   Regulatory technology: (01/04/2021 - 30/04/2021)  9 non-null      float64\n",
      " 8   Remittance: (01/04/2021 - 30/04/2021)             61 non-null     float64\n",
      " 9   virtual banking: (01/04/2021 - 30/04/2021)        13 non-null     float64\n",
      "dtypes: float64(10)\n",
      "memory usage: 29.6+ KB\n"
     ]
    }
   ],
   "source": [
    "data.info()"
   ]
  },
  {
   "cell_type": "markdown",
   "metadata": {},
   "source": [
    "Now when Python considers all columns as floating point numbers (Dtype float64), I can sum up the values from all columns in one column 'Total' which will be the final score to visualize."
   ]
  },
  {
   "cell_type": "code",
   "execution_count": 17,
   "metadata": {},
   "outputs": [],
   "source": [
    "data['Total'] = data.sum(axis=1)"
   ]
  },
  {
   "cell_type": "markdown",
   "metadata": {},
   "source": [
    "Sorting the values in descending order."
   ]
  },
  {
   "cell_type": "code",
   "execution_count": 18,
   "metadata": {},
   "outputs": [],
   "source": [
    "data = data.sort_values('Total', ascending=False)"
   ]
  },
  {
   "cell_type": "markdown",
   "metadata": {},
   "source": [
    "Saving the resulting dataset to a separate file"
   ]
  },
  {
   "cell_type": "code",
   "execution_count": 19,
   "metadata": {},
   "outputs": [],
   "source": [
    "data.to_csv(\"result_dataset/world_data.csv\")"
   ]
  },
  {
   "cell_type": "markdown",
   "metadata": {},
   "source": [
    "Displaying first 10 countries from the table"
   ]
  },
  {
   "cell_type": "code",
   "execution_count": 20,
   "metadata": {
    "scrolled": false
   },
   "outputs": [
    {
     "data": {
      "text/html": [
       "<div>\n",
       "<style scoped>\n",
       "    .dataframe tbody tr th:only-of-type {\n",
       "        vertical-align: middle;\n",
       "    }\n",
       "\n",
       "    .dataframe tbody tr th {\n",
       "        vertical-align: top;\n",
       "    }\n",
       "\n",
       "    .dataframe thead th {\n",
       "        text-align: right;\n",
       "    }\n",
       "</style>\n",
       "<table border=\"1\" class=\"dataframe\">\n",
       "  <thead>\n",
       "    <tr style=\"text-align: right;\">\n",
       "      <th></th>\n",
       "      <th>blockchain: (01/04/2021 - 30/04/2021)</th>\n",
       "      <th>Financial technology: (01/04/2021 - 30/04/2021)</th>\n",
       "      <th>Insurtech: (01/04/2021 - 30/04/2021)</th>\n",
       "      <th>lending: (01/04/2021 - 30/04/2021)</th>\n",
       "      <th>mobile payments: (01/04/2021 - 30/04/2021)</th>\n",
       "      <th>Open banking: (01/04/2021 - 30/04/2021)</th>\n",
       "      <th>Personal finance: (01/04/2021 - 30/04/2021)</th>\n",
       "      <th>Regulatory technology: (01/04/2021 - 30/04/2021)</th>\n",
       "      <th>Remittance: (01/04/2021 - 30/04/2021)</th>\n",
       "      <th>virtual banking: (01/04/2021 - 30/04/2021)</th>\n",
       "      <th>Total</th>\n",
       "    </tr>\n",
       "    <tr>\n",
       "      <th>Country</th>\n",
       "      <th></th>\n",
       "      <th></th>\n",
       "      <th></th>\n",
       "      <th></th>\n",
       "      <th></th>\n",
       "      <th></th>\n",
       "      <th></th>\n",
       "      <th></th>\n",
       "      <th></th>\n",
       "      <th></th>\n",
       "      <th></th>\n",
       "    </tr>\n",
       "  </thead>\n",
       "  <tbody>\n",
       "    <tr>\n",
       "      <th>Hong Kong</th>\n",
       "      <td>13.0</td>\n",
       "      <td>89.0</td>\n",
       "      <td>100.0</td>\n",
       "      <td>35.0</td>\n",
       "      <td>NaN</td>\n",
       "      <td>25.0</td>\n",
       "      <td>90.0</td>\n",
       "      <td>100.0</td>\n",
       "      <td>8.0</td>\n",
       "      <td>16.0</td>\n",
       "      <td>476.0</td>\n",
       "    </tr>\n",
       "    <tr>\n",
       "      <th>Singapore</th>\n",
       "      <td>19.0</td>\n",
       "      <td>94.0</td>\n",
       "      <td>97.0</td>\n",
       "      <td>60.0</td>\n",
       "      <td>NaN</td>\n",
       "      <td>NaN</td>\n",
       "      <td>13.0</td>\n",
       "      <td>NaN</td>\n",
       "      <td>20.0</td>\n",
       "      <td>NaN</td>\n",
       "      <td>303.0</td>\n",
       "    </tr>\n",
       "    <tr>\n",
       "      <th>Taiwan</th>\n",
       "      <td>2.0</td>\n",
       "      <td>31.0</td>\n",
       "      <td>38.0</td>\n",
       "      <td>6.0</td>\n",
       "      <td>NaN</td>\n",
       "      <td>38.0</td>\n",
       "      <td>100.0</td>\n",
       "      <td>6.0</td>\n",
       "      <td>2.0</td>\n",
       "      <td>NaN</td>\n",
       "      <td>223.0</td>\n",
       "    </tr>\n",
       "    <tr>\n",
       "      <th>United Kingdom</th>\n",
       "      <td>14.0</td>\n",
       "      <td>21.0</td>\n",
       "      <td>21.0</td>\n",
       "      <td>31.0</td>\n",
       "      <td>53.0</td>\n",
       "      <td>57.0</td>\n",
       "      <td>4.0</td>\n",
       "      <td>6.0</td>\n",
       "      <td>5.0</td>\n",
       "      <td>2.0</td>\n",
       "      <td>214.0</td>\n",
       "    </tr>\n",
       "    <tr>\n",
       "      <th>United States</th>\n",
       "      <td>6.0</td>\n",
       "      <td>15.0</td>\n",
       "      <td>32.0</td>\n",
       "      <td>71.0</td>\n",
       "      <td>67.0</td>\n",
       "      <td>5.0</td>\n",
       "      <td>5.0</td>\n",
       "      <td>1.0</td>\n",
       "      <td>3.0</td>\n",
       "      <td>2.0</td>\n",
       "      <td>207.0</td>\n",
       "    </tr>\n",
       "    <tr>\n",
       "      <th>Ghana</th>\n",
       "      <td>38.0</td>\n",
       "      <td>36.0</td>\n",
       "      <td>NaN</td>\n",
       "      <td>100.0</td>\n",
       "      <td>NaN</td>\n",
       "      <td>NaN</td>\n",
       "      <td>8.0</td>\n",
       "      <td>NaN</td>\n",
       "      <td>6.0</td>\n",
       "      <td>NaN</td>\n",
       "      <td>188.0</td>\n",
       "    </tr>\n",
       "    <tr>\n",
       "      <th>South Korea</th>\n",
       "      <td>3.0</td>\n",
       "      <td>57.0</td>\n",
       "      <td>NaN</td>\n",
       "      <td>13.0</td>\n",
       "      <td>NaN</td>\n",
       "      <td>74.0</td>\n",
       "      <td>2.0</td>\n",
       "      <td>7.0</td>\n",
       "      <td>23.0</td>\n",
       "      <td>NaN</td>\n",
       "      <td>179.0</td>\n",
       "    </tr>\n",
       "    <tr>\n",
       "      <th>Vietnam</th>\n",
       "      <td>5.0</td>\n",
       "      <td>15.0</td>\n",
       "      <td>56.0</td>\n",
       "      <td>11.0</td>\n",
       "      <td>41.0</td>\n",
       "      <td>29.0</td>\n",
       "      <td>3.0</td>\n",
       "      <td>NaN</td>\n",
       "      <td>3.0</td>\n",
       "      <td>NaN</td>\n",
       "      <td>163.0</td>\n",
       "    </tr>\n",
       "    <tr>\n",
       "      <th>Malaysia</th>\n",
       "      <td>5.0</td>\n",
       "      <td>31.0</td>\n",
       "      <td>77.0</td>\n",
       "      <td>22.0</td>\n",
       "      <td>NaN</td>\n",
       "      <td>10.0</td>\n",
       "      <td>9.0</td>\n",
       "      <td>NaN</td>\n",
       "      <td>6.0</td>\n",
       "      <td>NaN</td>\n",
       "      <td>160.0</td>\n",
       "    </tr>\n",
       "    <tr>\n",
       "      <th>Argentina</th>\n",
       "      <td>4.0</td>\n",
       "      <td>10.0</td>\n",
       "      <td>40.0</td>\n",
       "      <td>2.0</td>\n",
       "      <td>NaN</td>\n",
       "      <td>NaN</td>\n",
       "      <td>1.0</td>\n",
       "      <td>NaN</td>\n",
       "      <td>0.0</td>\n",
       "      <td>100.0</td>\n",
       "      <td>157.0</td>\n",
       "    </tr>\n",
       "  </tbody>\n",
       "</table>\n",
       "</div>"
      ],
      "text/plain": [
       "                blockchain: (01/04/2021 - 30/04/2021)  \\\n",
       "Country                                                 \n",
       "Hong Kong                                        13.0   \n",
       "Singapore                                        19.0   \n",
       "Taiwan                                            2.0   \n",
       "United Kingdom                                   14.0   \n",
       "United States                                     6.0   \n",
       "Ghana                                            38.0   \n",
       "South Korea                                       3.0   \n",
       "Vietnam                                           5.0   \n",
       "Malaysia                                          5.0   \n",
       "Argentina                                         4.0   \n",
       "\n",
       "                Financial technology: (01/04/2021 - 30/04/2021)  \\\n",
       "Country                                                           \n",
       "Hong Kong                                                  89.0   \n",
       "Singapore                                                  94.0   \n",
       "Taiwan                                                     31.0   \n",
       "United Kingdom                                             21.0   \n",
       "United States                                              15.0   \n",
       "Ghana                                                      36.0   \n",
       "South Korea                                                57.0   \n",
       "Vietnam                                                    15.0   \n",
       "Malaysia                                                   31.0   \n",
       "Argentina                                                  10.0   \n",
       "\n",
       "                Insurtech: (01/04/2021 - 30/04/2021)  \\\n",
       "Country                                                \n",
       "Hong Kong                                      100.0   \n",
       "Singapore                                       97.0   \n",
       "Taiwan                                          38.0   \n",
       "United Kingdom                                  21.0   \n",
       "United States                                   32.0   \n",
       "Ghana                                            NaN   \n",
       "South Korea                                      NaN   \n",
       "Vietnam                                         56.0   \n",
       "Malaysia                                        77.0   \n",
       "Argentina                                       40.0   \n",
       "\n",
       "                lending: (01/04/2021 - 30/04/2021)  \\\n",
       "Country                                              \n",
       "Hong Kong                                     35.0   \n",
       "Singapore                                     60.0   \n",
       "Taiwan                                         6.0   \n",
       "United Kingdom                                31.0   \n",
       "United States                                 71.0   \n",
       "Ghana                                        100.0   \n",
       "South Korea                                   13.0   \n",
       "Vietnam                                       11.0   \n",
       "Malaysia                                      22.0   \n",
       "Argentina                                      2.0   \n",
       "\n",
       "                mobile payments: (01/04/2021 - 30/04/2021)  \\\n",
       "Country                                                      \n",
       "Hong Kong                                              NaN   \n",
       "Singapore                                              NaN   \n",
       "Taiwan                                                 NaN   \n",
       "United Kingdom                                        53.0   \n",
       "United States                                         67.0   \n",
       "Ghana                                                  NaN   \n",
       "South Korea                                            NaN   \n",
       "Vietnam                                               41.0   \n",
       "Malaysia                                               NaN   \n",
       "Argentina                                              NaN   \n",
       "\n",
       "                Open banking: (01/04/2021 - 30/04/2021)  \\\n",
       "Country                                                   \n",
       "Hong Kong                                          25.0   \n",
       "Singapore                                           NaN   \n",
       "Taiwan                                             38.0   \n",
       "United Kingdom                                     57.0   \n",
       "United States                                       5.0   \n",
       "Ghana                                               NaN   \n",
       "South Korea                                        74.0   \n",
       "Vietnam                                            29.0   \n",
       "Malaysia                                           10.0   \n",
       "Argentina                                           NaN   \n",
       "\n",
       "                Personal finance: (01/04/2021 - 30/04/2021)  \\\n",
       "Country                                                       \n",
       "Hong Kong                                              90.0   \n",
       "Singapore                                              13.0   \n",
       "Taiwan                                                100.0   \n",
       "United Kingdom                                          4.0   \n",
       "United States                                           5.0   \n",
       "Ghana                                                   8.0   \n",
       "South Korea                                             2.0   \n",
       "Vietnam                                                 3.0   \n",
       "Malaysia                                                9.0   \n",
       "Argentina                                               1.0   \n",
       "\n",
       "                Regulatory technology: (01/04/2021 - 30/04/2021)  \\\n",
       "Country                                                            \n",
       "Hong Kong                                                  100.0   \n",
       "Singapore                                                    NaN   \n",
       "Taiwan                                                       6.0   \n",
       "United Kingdom                                               6.0   \n",
       "United States                                                1.0   \n",
       "Ghana                                                        NaN   \n",
       "South Korea                                                  7.0   \n",
       "Vietnam                                                      NaN   \n",
       "Malaysia                                                     NaN   \n",
       "Argentina                                                    NaN   \n",
       "\n",
       "                Remittance: (01/04/2021 - 30/04/2021)  \\\n",
       "Country                                                 \n",
       "Hong Kong                                         8.0   \n",
       "Singapore                                        20.0   \n",
       "Taiwan                                            2.0   \n",
       "United Kingdom                                    5.0   \n",
       "United States                                     3.0   \n",
       "Ghana                                             6.0   \n",
       "South Korea                                      23.0   \n",
       "Vietnam                                           3.0   \n",
       "Malaysia                                          6.0   \n",
       "Argentina                                         0.0   \n",
       "\n",
       "                virtual banking: (01/04/2021 - 30/04/2021)  Total  \n",
       "Country                                                            \n",
       "Hong Kong                                             16.0  476.0  \n",
       "Singapore                                              NaN  303.0  \n",
       "Taiwan                                                 NaN  223.0  \n",
       "United Kingdom                                         2.0  214.0  \n",
       "United States                                          2.0  207.0  \n",
       "Ghana                                                  NaN  188.0  \n",
       "South Korea                                            NaN  179.0  \n",
       "Vietnam                                                NaN  163.0  \n",
       "Malaysia                                               NaN  160.0  \n",
       "Argentina                                            100.0  157.0  "
      ]
     },
     "execution_count": 20,
     "metadata": {},
     "output_type": "execute_result"
    }
   ],
   "source": [
    "data.head(10)"
   ]
  },
  {
   "cell_type": "markdown",
   "metadata": {},
   "source": [
    "## Data Visualization"
   ]
  },
  {
   "cell_type": "markdown",
   "metadata": {},
   "source": [
    "In case of the world map, small countries like Singapore and Hong Kong, will get lost among others but they're important to showcase, so I switched to barplot after seeing the result."
   ]
  },
  {
   "cell_type": "markdown",
   "metadata": {},
   "source": [
    "### World Map"
   ]
  },
  {
   "cell_type": "code",
   "execution_count": 21,
   "metadata": {},
   "outputs": [],
   "source": [
    "#pip install git+git://github.com/geopandas/geopandas.git\n",
    "#pip install descartes\n",
    "#!pip install mapclassify"
   ]
  },
  {
   "cell_type": "code",
   "execution_count": 22,
   "metadata": {},
   "outputs": [],
   "source": [
    "import geopandas as gpd\n",
    "import matplotlib.pyplot as plt\n",
    "from mpl_toolkits.axes_grid1 import make_axes_locatable"
   ]
  },
  {
   "cell_type": "code",
   "execution_count": 23,
   "metadata": {},
   "outputs": [],
   "source": [
    "world = gpd.read_file(gpd.datasets.get_path('naturalearth_lowres'))\n",
    "world = world[(world.pop_est>0) & (world.name!=\"Antarctica\")]"
   ]
  },
  {
   "cell_type": "code",
   "execution_count": 24,
   "metadata": {},
   "outputs": [],
   "source": [
    "world = pd.merge(world,data,left_on='name',right_on='Country')"
   ]
  },
  {
   "cell_type": "code",
   "execution_count": 25,
   "metadata": {},
   "outputs": [
    {
     "data": {
      "text/plain": [
       "'0.9.0+22.g85e066a'"
      ]
     },
     "execution_count": 25,
     "metadata": {},
     "output_type": "execute_result"
    }
   ],
   "source": [
    "gpd.__version__"
   ]
  },
  {
   "cell_type": "code",
   "execution_count": 26,
   "metadata": {},
   "outputs": [
    {
     "data": {
      "text/html": [
       "<div>\n",
       "<style scoped>\n",
       "    .dataframe tbody tr th:only-of-type {\n",
       "        vertical-align: middle;\n",
       "    }\n",
       "\n",
       "    .dataframe tbody tr th {\n",
       "        vertical-align: top;\n",
       "    }\n",
       "\n",
       "    .dataframe thead th {\n",
       "        text-align: right;\n",
       "    }\n",
       "</style>\n",
       "<table border=\"1\" class=\"dataframe\">\n",
       "  <thead>\n",
       "    <tr style=\"text-align: right;\">\n",
       "      <th></th>\n",
       "      <th>pop_est</th>\n",
       "      <th>continent</th>\n",
       "      <th>name</th>\n",
       "      <th>iso_a3</th>\n",
       "      <th>gdp_md_est</th>\n",
       "      <th>geometry</th>\n",
       "      <th>blockchain: (01/04/2021 - 30/04/2021)</th>\n",
       "      <th>Financial technology: (01/04/2021 - 30/04/2021)</th>\n",
       "      <th>Insurtech: (01/04/2021 - 30/04/2021)</th>\n",
       "      <th>lending: (01/04/2021 - 30/04/2021)</th>\n",
       "      <th>mobile payments: (01/04/2021 - 30/04/2021)</th>\n",
       "      <th>Open banking: (01/04/2021 - 30/04/2021)</th>\n",
       "      <th>Personal finance: (01/04/2021 - 30/04/2021)</th>\n",
       "      <th>Regulatory technology: (01/04/2021 - 30/04/2021)</th>\n",
       "      <th>Remittance: (01/04/2021 - 30/04/2021)</th>\n",
       "      <th>virtual banking: (01/04/2021 - 30/04/2021)</th>\n",
       "      <th>Total</th>\n",
       "    </tr>\n",
       "  </thead>\n",
       "  <tbody>\n",
       "    <tr>\n",
       "      <th>0</th>\n",
       "      <td>920938</td>\n",
       "      <td>Oceania</td>\n",
       "      <td>Fiji</td>\n",
       "      <td>FJI</td>\n",
       "      <td>8374.0</td>\n",
       "      <td>MULTIPOLYGON (((180.00000 -16.06713, 180.00000...</td>\n",
       "      <td>NaN</td>\n",
       "      <td>NaN</td>\n",
       "      <td>NaN</td>\n",
       "      <td>NaN</td>\n",
       "      <td>NaN</td>\n",
       "      <td>NaN</td>\n",
       "      <td>NaN</td>\n",
       "      <td>NaN</td>\n",
       "      <td>NaN</td>\n",
       "      <td>NaN</td>\n",
       "      <td>0.0</td>\n",
       "    </tr>\n",
       "    <tr>\n",
       "      <th>1</th>\n",
       "      <td>53950935</td>\n",
       "      <td>Africa</td>\n",
       "      <td>Tanzania</td>\n",
       "      <td>TZA</td>\n",
       "      <td>150600.0</td>\n",
       "      <td>POLYGON ((33.90371 -0.95000, 34.07262 -1.05982...</td>\n",
       "      <td>3.0</td>\n",
       "      <td>NaN</td>\n",
       "      <td>NaN</td>\n",
       "      <td>NaN</td>\n",
       "      <td>NaN</td>\n",
       "      <td>NaN</td>\n",
       "      <td>10.0</td>\n",
       "      <td>NaN</td>\n",
       "      <td>NaN</td>\n",
       "      <td>NaN</td>\n",
       "      <td>13.0</td>\n",
       "    </tr>\n",
       "    <tr>\n",
       "      <th>2</th>\n",
       "      <td>35623680</td>\n",
       "      <td>North America</td>\n",
       "      <td>Canada</td>\n",
       "      <td>CAN</td>\n",
       "      <td>1674000.0</td>\n",
       "      <td>MULTIPOLYGON (((-122.84000 49.00000, -122.9742...</td>\n",
       "      <td>11.0</td>\n",
       "      <td>15.0</td>\n",
       "      <td>NaN</td>\n",
       "      <td>24.0</td>\n",
       "      <td>14.0</td>\n",
       "      <td>13.0</td>\n",
       "      <td>5.0</td>\n",
       "      <td>NaN</td>\n",
       "      <td>8.0</td>\n",
       "      <td>2.0</td>\n",
       "      <td>92.0</td>\n",
       "    </tr>\n",
       "    <tr>\n",
       "      <th>3</th>\n",
       "      <td>18556698</td>\n",
       "      <td>Asia</td>\n",
       "      <td>Kazakhstan</td>\n",
       "      <td>KAZ</td>\n",
       "      <td>460700.0</td>\n",
       "      <td>POLYGON ((87.35997 49.21498, 86.59878 48.54918...</td>\n",
       "      <td>4.0</td>\n",
       "      <td>NaN</td>\n",
       "      <td>NaN</td>\n",
       "      <td>NaN</td>\n",
       "      <td>NaN</td>\n",
       "      <td>NaN</td>\n",
       "      <td>NaN</td>\n",
       "      <td>NaN</td>\n",
       "      <td>NaN</td>\n",
       "      <td>NaN</td>\n",
       "      <td>4.0</td>\n",
       "    </tr>\n",
       "    <tr>\n",
       "      <th>4</th>\n",
       "      <td>29748859</td>\n",
       "      <td>Asia</td>\n",
       "      <td>Uzbekistan</td>\n",
       "      <td>UZB</td>\n",
       "      <td>202300.0</td>\n",
       "      <td>POLYGON ((55.96819 41.30864, 55.92892 44.99586...</td>\n",
       "      <td>NaN</td>\n",
       "      <td>NaN</td>\n",
       "      <td>NaN</td>\n",
       "      <td>NaN</td>\n",
       "      <td>NaN</td>\n",
       "      <td>NaN</td>\n",
       "      <td>NaN</td>\n",
       "      <td>NaN</td>\n",
       "      <td>NaN</td>\n",
       "      <td>NaN</td>\n",
       "      <td>0.0</td>\n",
       "    </tr>\n",
       "    <tr>\n",
       "      <th>...</th>\n",
       "      <td>...</td>\n",
       "      <td>...</td>\n",
       "      <td>...</td>\n",
       "      <td>...</td>\n",
       "      <td>...</td>\n",
       "      <td>...</td>\n",
       "      <td>...</td>\n",
       "      <td>...</td>\n",
       "      <td>...</td>\n",
       "      <td>...</td>\n",
       "      <td>...</td>\n",
       "      <td>...</td>\n",
       "      <td>...</td>\n",
       "      <td>...</td>\n",
       "      <td>...</td>\n",
       "      <td>...</td>\n",
       "      <td>...</td>\n",
       "    </tr>\n",
       "    <tr>\n",
       "      <th>152</th>\n",
       "      <td>39570125</td>\n",
       "      <td>Africa</td>\n",
       "      <td>Uganda</td>\n",
       "      <td>UGA</td>\n",
       "      <td>84930.0</td>\n",
       "      <td>POLYGON ((33.90371 -0.95000, 31.86617 -1.02736...</td>\n",
       "      <td>NaN</td>\n",
       "      <td>NaN</td>\n",
       "      <td>NaN</td>\n",
       "      <td>NaN</td>\n",
       "      <td>NaN</td>\n",
       "      <td>NaN</td>\n",
       "      <td>NaN</td>\n",
       "      <td>NaN</td>\n",
       "      <td>NaN</td>\n",
       "      <td>NaN</td>\n",
       "      <td>0.0</td>\n",
       "    </tr>\n",
       "    <tr>\n",
       "      <th>153</th>\n",
       "      <td>11901484</td>\n",
       "      <td>Africa</td>\n",
       "      <td>Rwanda</td>\n",
       "      <td>RWA</td>\n",
       "      <td>21970.0</td>\n",
       "      <td>POLYGON ((30.41910 -1.13466, 30.81613 -1.69891...</td>\n",
       "      <td>NaN</td>\n",
       "      <td>NaN</td>\n",
       "      <td>NaN</td>\n",
       "      <td>NaN</td>\n",
       "      <td>NaN</td>\n",
       "      <td>NaN</td>\n",
       "      <td>NaN</td>\n",
       "      <td>NaN</td>\n",
       "      <td>NaN</td>\n",
       "      <td>NaN</td>\n",
       "      <td>0.0</td>\n",
       "    </tr>\n",
       "    <tr>\n",
       "      <th>154</th>\n",
       "      <td>7111024</td>\n",
       "      <td>Europe</td>\n",
       "      <td>Serbia</td>\n",
       "      <td>SRB</td>\n",
       "      <td>101800.0</td>\n",
       "      <td>POLYGON ((18.82982 45.90887, 18.82984 45.90888...</td>\n",
       "      <td>3.0</td>\n",
       "      <td>10.0</td>\n",
       "      <td>NaN</td>\n",
       "      <td>NaN</td>\n",
       "      <td>NaN</td>\n",
       "      <td>NaN</td>\n",
       "      <td>NaN</td>\n",
       "      <td>NaN</td>\n",
       "      <td>NaN</td>\n",
       "      <td>NaN</td>\n",
       "      <td>13.0</td>\n",
       "    </tr>\n",
       "    <tr>\n",
       "      <th>155</th>\n",
       "      <td>642550</td>\n",
       "      <td>Europe</td>\n",
       "      <td>Montenegro</td>\n",
       "      <td>MNE</td>\n",
       "      <td>10610.0</td>\n",
       "      <td>POLYGON ((20.07070 42.58863, 19.80161 42.50009...</td>\n",
       "      <td>NaN</td>\n",
       "      <td>NaN</td>\n",
       "      <td>NaN</td>\n",
       "      <td>NaN</td>\n",
       "      <td>NaN</td>\n",
       "      <td>NaN</td>\n",
       "      <td>NaN</td>\n",
       "      <td>NaN</td>\n",
       "      <td>NaN</td>\n",
       "      <td>NaN</td>\n",
       "      <td>0.0</td>\n",
       "    </tr>\n",
       "    <tr>\n",
       "      <th>156</th>\n",
       "      <td>1895250</td>\n",
       "      <td>Europe</td>\n",
       "      <td>Kosovo</td>\n",
       "      <td>-99</td>\n",
       "      <td>18490.0</td>\n",
       "      <td>POLYGON ((20.59025 41.85541, 20.52295 42.21787...</td>\n",
       "      <td>11.0</td>\n",
       "      <td>NaN</td>\n",
       "      <td>NaN</td>\n",
       "      <td>NaN</td>\n",
       "      <td>NaN</td>\n",
       "      <td>NaN</td>\n",
       "      <td>NaN</td>\n",
       "      <td>NaN</td>\n",
       "      <td>NaN</td>\n",
       "      <td>NaN</td>\n",
       "      <td>11.0</td>\n",
       "    </tr>\n",
       "  </tbody>\n",
       "</table>\n",
       "<p>157 rows × 17 columns</p>\n",
       "</div>"
      ],
      "text/plain": [
       "      pop_est      continent        name iso_a3  gdp_md_est  \\\n",
       "0      920938        Oceania        Fiji    FJI      8374.0   \n",
       "1    53950935         Africa    Tanzania    TZA    150600.0   \n",
       "2    35623680  North America      Canada    CAN   1674000.0   \n",
       "3    18556698           Asia  Kazakhstan    KAZ    460700.0   \n",
       "4    29748859           Asia  Uzbekistan    UZB    202300.0   \n",
       "..        ...            ...         ...    ...         ...   \n",
       "152  39570125         Africa      Uganda    UGA     84930.0   \n",
       "153  11901484         Africa      Rwanda    RWA     21970.0   \n",
       "154   7111024         Europe      Serbia    SRB    101800.0   \n",
       "155    642550         Europe  Montenegro    MNE     10610.0   \n",
       "156   1895250         Europe      Kosovo    -99     18490.0   \n",
       "\n",
       "                                              geometry  \\\n",
       "0    MULTIPOLYGON (((180.00000 -16.06713, 180.00000...   \n",
       "1    POLYGON ((33.90371 -0.95000, 34.07262 -1.05982...   \n",
       "2    MULTIPOLYGON (((-122.84000 49.00000, -122.9742...   \n",
       "3    POLYGON ((87.35997 49.21498, 86.59878 48.54918...   \n",
       "4    POLYGON ((55.96819 41.30864, 55.92892 44.99586...   \n",
       "..                                                 ...   \n",
       "152  POLYGON ((33.90371 -0.95000, 31.86617 -1.02736...   \n",
       "153  POLYGON ((30.41910 -1.13466, 30.81613 -1.69891...   \n",
       "154  POLYGON ((18.82982 45.90887, 18.82984 45.90888...   \n",
       "155  POLYGON ((20.07070 42.58863, 19.80161 42.50009...   \n",
       "156  POLYGON ((20.59025 41.85541, 20.52295 42.21787...   \n",
       "\n",
       "     blockchain: (01/04/2021 - 30/04/2021)  \\\n",
       "0                                      NaN   \n",
       "1                                      3.0   \n",
       "2                                     11.0   \n",
       "3                                      4.0   \n",
       "4                                      NaN   \n",
       "..                                     ...   \n",
       "152                                    NaN   \n",
       "153                                    NaN   \n",
       "154                                    3.0   \n",
       "155                                    NaN   \n",
       "156                                   11.0   \n",
       "\n",
       "     Financial technology: (01/04/2021 - 30/04/2021)  \\\n",
       "0                                                NaN   \n",
       "1                                                NaN   \n",
       "2                                               15.0   \n",
       "3                                                NaN   \n",
       "4                                                NaN   \n",
       "..                                               ...   \n",
       "152                                              NaN   \n",
       "153                                              NaN   \n",
       "154                                             10.0   \n",
       "155                                              NaN   \n",
       "156                                              NaN   \n",
       "\n",
       "     Insurtech: (01/04/2021 - 30/04/2021)  lending: (01/04/2021 - 30/04/2021)  \\\n",
       "0                                     NaN                                 NaN   \n",
       "1                                     NaN                                 NaN   \n",
       "2                                     NaN                                24.0   \n",
       "3                                     NaN                                 NaN   \n",
       "4                                     NaN                                 NaN   \n",
       "..                                    ...                                 ...   \n",
       "152                                   NaN                                 NaN   \n",
       "153                                   NaN                                 NaN   \n",
       "154                                   NaN                                 NaN   \n",
       "155                                   NaN                                 NaN   \n",
       "156                                   NaN                                 NaN   \n",
       "\n",
       "     mobile payments: (01/04/2021 - 30/04/2021)  \\\n",
       "0                                           NaN   \n",
       "1                                           NaN   \n",
       "2                                          14.0   \n",
       "3                                           NaN   \n",
       "4                                           NaN   \n",
       "..                                          ...   \n",
       "152                                         NaN   \n",
       "153                                         NaN   \n",
       "154                                         NaN   \n",
       "155                                         NaN   \n",
       "156                                         NaN   \n",
       "\n",
       "     Open banking: (01/04/2021 - 30/04/2021)  \\\n",
       "0                                        NaN   \n",
       "1                                        NaN   \n",
       "2                                       13.0   \n",
       "3                                        NaN   \n",
       "4                                        NaN   \n",
       "..                                       ...   \n",
       "152                                      NaN   \n",
       "153                                      NaN   \n",
       "154                                      NaN   \n",
       "155                                      NaN   \n",
       "156                                      NaN   \n",
       "\n",
       "     Personal finance: (01/04/2021 - 30/04/2021)  \\\n",
       "0                                            NaN   \n",
       "1                                           10.0   \n",
       "2                                            5.0   \n",
       "3                                            NaN   \n",
       "4                                            NaN   \n",
       "..                                           ...   \n",
       "152                                          NaN   \n",
       "153                                          NaN   \n",
       "154                                          NaN   \n",
       "155                                          NaN   \n",
       "156                                          NaN   \n",
       "\n",
       "     Regulatory technology: (01/04/2021 - 30/04/2021)  \\\n",
       "0                                                 NaN   \n",
       "1                                                 NaN   \n",
       "2                                                 NaN   \n",
       "3                                                 NaN   \n",
       "4                                                 NaN   \n",
       "..                                                ...   \n",
       "152                                               NaN   \n",
       "153                                               NaN   \n",
       "154                                               NaN   \n",
       "155                                               NaN   \n",
       "156                                               NaN   \n",
       "\n",
       "     Remittance: (01/04/2021 - 30/04/2021)  \\\n",
       "0                                      NaN   \n",
       "1                                      NaN   \n",
       "2                                      8.0   \n",
       "3                                      NaN   \n",
       "4                                      NaN   \n",
       "..                                     ...   \n",
       "152                                    NaN   \n",
       "153                                    NaN   \n",
       "154                                    NaN   \n",
       "155                                    NaN   \n",
       "156                                    NaN   \n",
       "\n",
       "     virtual banking: (01/04/2021 - 30/04/2021)  Total  \n",
       "0                                           NaN    0.0  \n",
       "1                                           NaN   13.0  \n",
       "2                                           2.0   92.0  \n",
       "3                                           NaN    4.0  \n",
       "4                                           NaN    0.0  \n",
       "..                                          ...    ...  \n",
       "152                                         NaN    0.0  \n",
       "153                                         NaN    0.0  \n",
       "154                                         NaN   13.0  \n",
       "155                                         NaN    0.0  \n",
       "156                                         NaN   11.0  \n",
       "\n",
       "[157 rows x 17 columns]"
      ]
     },
     "execution_count": 26,
     "metadata": {},
     "output_type": "execute_result"
    }
   ],
   "source": [
    "world"
   ]
  },
  {
   "cell_type": "code",
   "execution_count": 27,
   "metadata": {
    "scrolled": true
   },
   "outputs": [
    {
     "data": {
      "image/png": "[encoded data removed]",
      "text/plain": [
       "<Figure size 1800x720 with 2 Axes>"
      ]
     },
     "metadata": {
      "needs_background": "light"
     },
     "output_type": "display_data"
    }
   ],
   "source": [
    "fig, ax = plt.subplots(1, 1, figsize=(25,10))\n",
    "divider = make_axes_locatable(ax)\n",
    "cax = divider.append_axes(\"right\", size=\"5%\", pad=0.1)\n",
    "world.plot(column='Total', ax=ax, legend=True, cax=cax, missing_kwds={ \"color\": \"lightgrey\" })\n",
    "\n",
    "plt.show()"
   ]
  },
  {
   "cell_type": "markdown",
   "metadata": {},
   "source": [
    "### Barplot"
   ]
  },
  {
   "cell_type": "markdown",
   "metadata": {},
   "source": [
    "I chose to select top 50 countries for the barplot."
   ]
  },
  {
   "cell_type": "code",
   "execution_count": 28,
   "metadata": {},
   "outputs": [],
   "source": [
    "countries_to_visualize = 50"
   ]
  },
  {
   "cell_type": "code",
   "execution_count": 29,
   "metadata": {},
   "outputs": [
    {
     "name": "stdout",
     "output_type": "stream",
     "text": [
      "104 countries have a score more than 0\n"
     ]
    }
   ],
   "source": [
    "print(len(data) - len(data[data['Total']==0]), \"countries have a score more than 0\")"
   ]
  },
  {
   "cell_type": "code",
   "execution_count": 30,
   "metadata": {},
   "outputs": [
    {
     "name": "stdout",
     "output_type": "stream",
     "text": [
      "54 countries will not be visualized\n"
     ]
    }
   ],
   "source": [
    "print((len(data) - len(data[data['Total']==0])) - countries_to_visualize, \"countries will not be visualized\")"
   ]
  },
  {
   "cell_type": "code",
   "execution_count": 31,
   "metadata": {},
   "outputs": [],
   "source": [
    "#Part 2\n",
    "import os\n",
    "import glob\n",
    "import pandas as pd\n",
    "os.chdir('C:/Users/ww/Documents/Data/self-study/relativesearch202100401-0430/')"
   ]
  },
  {
   "cell_type": "code",
   "execution_count": 32,
   "metadata": {
    "scrolled": true
   },
   "outputs": [],
   "source": [
    "world_data = pd.read_csv(\"result_dataset/world_data.csv\").head(countries_to_visualize)"
   ]
  },
  {
   "cell_type": "code",
   "execution_count": 33,
   "metadata": {},
   "outputs": [],
   "source": [
    "world_data = world_data[world_data['Total'] > 0] "
   ]
  },
  {
   "cell_type": "code",
   "execution_count": 34,
   "metadata": {},
   "outputs": [],
   "source": [
    "#conda install -c plotly plotly-orca"
   ]
  },
  {
   "cell_type": "code",
   "execution_count": 35,
   "metadata": {},
   "outputs": [
    {
     "data": {
      "image/svg+xml": [
       "<svg class=\"main-svg\" xmlns=\"http://www.w3.org/2000/svg\" xmlns:xlink=\"http://www.w3.org/1999/xlink\" width=\"980\" height=\"1200\" style=\"\" viewBox=\"0 0 980 1200\"><rect x=\"0\" y=\"0\" width=\"980\" height=\"1200\" style=\"fill: rgb(228, 228, 228); fill-opacity: 1;\"/><defs id=\"defs-dc38c8\"><g class=\"clips\"><clipPath id=\"clipdc38c8xyplot\" class=\"plotclip\"><rect width=\"767\" height=\"1085\"/></clipPath><clipPath class=\"axesclip\" id=\"clipdc38c8x\"><rect x=\"190\" y=\"0\" width=\"767\" height=\"1200\"/></clipPath><clipPath class=\"axesclip\" id=\"clipdc38c8y\"><rect x=\"0\" y=\"60\" width=\"980\" height=\"1085\"/></clipPath><clipPath class=\"axesclip\" id=\"clipdc38c8xy\"><rect x=\"190\" y=\"60\" width=\"767\" height=\"1085\"/></clipPath></g><g class=\"gradients\"/></defs><g class=\"bglayer\"><rect class=\"bg\" x=\"190\" y=\"60\" width=\"767\" height=\"1085\" style=\"fill: rgb(255, 255, 255); fill-opacity: 1; stroke-width: 0;\"/></g><g class=\"layer-below\"><g class=\"imagelayer\"/><g class=\"shapelayer\"/></g><g class=\"cartesianlayer\"><g class=\"subplot xy\"><g class=\"layer-subplot\"><g class=\"shapelayer\"/><g class=\"imagelayer\"/></g><g class=\"gridlayer\"><g class=\"x\"><path class=\"xgrid crisp\" transform=\"translate(343.08000000000004,0)\" d=\"M0,60v1085\" style=\"stroke: rgb(255, 255, 255); stroke-opacity: 1; stroke-width: 1px;\"/><path class=\"xgrid crisp\" transform=\"translate(496.16,0)\" d=\"M0,60v1085\" style=\"stroke: rgb(255, 255, 255); stroke-opacity: 1; stroke-width: 1px;\"/><path class=\"xgrid crisp\" transform=\"translate(649.23,0)\" d=\"M0,60v1085\" style=\"stroke: rgb(255, 255, 255); stroke-opacity: 1; stroke-width: 1px;\"/><path class=\"xgrid crisp\" transform=\"translate(802.31,0)\" d=\"M0,60v1085\" style=\"stroke: rgb(255, 255, 255); stroke-opacity: 1; stroke-width: 1px;\"/><path class=\"xgrid crisp\" transform=\"translate(955.39,0)\" d=\"M0,60v1085\" style=\"stroke: rgb(255, 255, 255); stroke-opacity: 1; stroke-width: 1px;\"/></g><g class=\"y\"/></g><g class=\"zerolinelayer\"><path class=\"xzl zl crisp\" transform=\"translate(190,0)\" d=\"M0,60v1085\" style=\"stroke: rgb(255, 255, 255); stroke-opacity: 1; stroke-width: 2px;\"/></g><path class=\"xlines-below\"/><path class=\"ylines-below\"/><g class=\"overlines-below\"/><g class=\"xaxislayer-below\"/><g class=\"yaxislayer-below\"/><g class=\"overaxes-below\"/><g class=\"plot\" transform=\"translate(190, 60)\" clip-path=\"url('#clipdc38c8xyplot')\"><g class=\"barlayer mlayer\"><g class=\"trace bars\" style=\"opacity: 1;\"><g class=\"points\"><g class=\"point\"><path d=\"M0,19.53V2.17H728.65V19.53Z\" style=\"vector-effect: non-scaling-stroke; opacity: 1; stroke-width: 0.5px; fill: rgb(60, 152, 202); fill-opacity: 1; stroke: rgb(229, 236, 246); stroke-opacity: 1;\"/><text class=\"bartext bartext-outside\" text-anchor=\"middle\" data-notex=\"1\" x=\"0\" y=\"0\" style=\"font-family: Montserrat; font-size: 13px; fill: rgb(0, 0, 0); fill-opacity: 1; white-space: pre;\" transform=\"translate(743.290625,15.654687500000001)\">476</text></g><g class=\"point\"><path d=\"M0,41.23V23.87H463.83V41.23Z\" style=\"vector-effect: non-scaling-stroke; opacity: 1; stroke-width: 0.5px; fill: rgb(60, 152, 202); fill-opacity: 1; stroke: rgb(229, 236, 246); stroke-opacity: 1;\"/><text class=\"bartext bartext-outside\" text-anchor=\"middle\" data-notex=\"1\" x=\"0\" y=\"0\" style=\"font-family: Montserrat; font-size: 13px; fill: rgb(0, 0, 0); fill-opacity: 1; white-space: pre;\" transform=\"translate(479.205,37.3546875)\">303</text></g><g class=\"point\"><path d=\"M0,62.93V45.57H341.36V62.93Z\" style=\"vector-effect: non-scaling-stroke; opacity: 1; stroke-width: 0.5px; fill: rgb(60, 152, 202); fill-opacity: 1; stroke: rgb(229, 236, 246); stroke-opacity: 1;\"/><text class=\"bartext bartext-outside\" text-anchor=\"middle\" data-notex=\"1\" x=\"0\" y=\"0\" style=\"font-family: Montserrat; font-size: 13px; fill: rgb(0, 0, 0); fill-opacity: 1; white-space: pre;\" transform=\"translate(355.4225,59.0546875)\">223</text></g><g class=\"point\"><path d=\"M0,84.63V67.27H327.59V84.63Z\" style=\"vector-effect: non-scaling-stroke; opacity: 1; stroke-width: 0.5px; fill: rgb(60, 152, 202); fill-opacity: 1; stroke: rgb(229, 236, 246); stroke-opacity: 1;\"/><text class=\"bartext bartext-outside\" text-anchor=\"middle\" data-notex=\"1\" x=\"0\" y=\"0\" style=\"font-family: Montserrat; font-size: 13px; fill: rgb(0, 0, 0); fill-opacity: 1; white-space: pre;\" transform=\"translate(340.93375,80.75468749999999)\">214</text></g><g class=\"point\"><path d=\"M0,106.33V88.97H316.87V106.33Z\" style=\"vector-effect: non-scaling-stroke; opacity: 1; stroke-width: 0.5px; fill: rgb(60, 152, 202); fill-opacity: 1; stroke: rgb(229, 236, 246); stroke-opacity: 1;\"/><text class=\"bartext bartext-outside\" text-anchor=\"middle\" data-notex=\"1\" x=\"0\" y=\"0\" style=\"font-family: Montserrat; font-size: 13px; fill: rgb(0, 0, 0); fill-opacity: 1; white-space: pre;\" transform=\"translate(331.62,102.4546875)\">207</text></g><g class=\"point\"><path d=\"M0,128.03V110.67H287.79V128.03Z\" style=\"vector-effect: non-scaling-stroke; opacity: 1; stroke-width: 0.5px; fill: rgb(60, 152, 202); fill-opacity: 1; stroke: rgb(229, 236, 246); stroke-opacity: 1;\"/><text class=\"bartext bartext-outside\" text-anchor=\"middle\" data-notex=\"1\" x=\"0\" y=\"0\" style=\"font-family: Montserrat; font-size: 13px; fill: rgb(0, 0, 0); fill-opacity: 1; white-space: pre;\" transform=\"translate(302.243125,124.1546875)\">188</text></g><g class=\"point\"><path d=\"M0,149.73V132.37H274.01V149.73Z\" style=\"vector-effect: non-scaling-stroke; opacity: 1; stroke-width: 0.5px; fill: rgb(60, 152, 202); fill-opacity: 1; stroke: rgb(229, 236, 246); stroke-opacity: 1;\"/><text class=\"bartext bartext-outside\" text-anchor=\"middle\" data-notex=\"1\" x=\"0\" y=\"0\" style=\"font-family: Montserrat; font-size: 13px; fill: rgb(0, 0, 0); fill-opacity: 1; white-space: pre;\" transform=\"translate(287.9475,145.8546875)\">179</text></g><g class=\"point\"><path d=\"M0,171.43V154.07H249.52V171.43Z\" style=\"vector-effect: non-scaling-stroke; opacity: 1; stroke-width: 0.5px; fill: rgb(60, 152, 202); fill-opacity: 1; stroke: rgb(229, 236, 246); stroke-opacity: 1;\"/><text class=\"bartext bartext-outside\" text-anchor=\"middle\" data-notex=\"1\" x=\"0\" y=\"0\" style=\"font-family: Montserrat; font-size: 13px; fill: rgb(0, 0, 0); fill-opacity: 1; white-space: pre;\" transform=\"translate(263.30125,167.5546875)\">163</text></g><g class=\"point\"><path d=\"M0,193.13V175.77H244.92V193.13Z\" style=\"vector-effect: non-scaling-stroke; opacity: 1; stroke-width: 0.5px; fill: rgb(60, 152, 202); fill-opacity: 1; stroke: rgb(229, 236, 246); stroke-opacity: 1;\"/><text class=\"bartext bartext-outside\" text-anchor=\"middle\" data-notex=\"1\" x=\"0\" y=\"0\" style=\"font-family: Montserrat; font-size: 13px; fill: rgb(0, 0, 0); fill-opacity: 1; white-space: pre;\" transform=\"translate(259.34187499999996,189.2546875)\">160</text></g><g class=\"point\"><path d=\"M0,236.53V219.17H240.33V236.53Z\" style=\"vector-effect: non-scaling-stroke; opacity: 1; stroke-width: 0.5px; fill: rgb(60, 152, 202); fill-opacity: 1; stroke: rgb(229, 236, 246); stroke-opacity: 1;\"/><text class=\"bartext bartext-outside\" text-anchor=\"middle\" data-notex=\"1\" x=\"0\" y=\"0\" style=\"font-family: Montserrat; font-size: 13px; fill: rgb(0, 0, 0); fill-opacity: 1; white-space: pre;\" transform=\"translate(253.908125,232.6546875)\">157</text></g><g class=\"point\"><path d=\"M0,214.83V197.47H240.33V214.83Z\" style=\"vector-effect: non-scaling-stroke; opacity: 1; stroke-width: 0.5px; fill: rgb(60, 152, 202); fill-opacity: 1; stroke: rgb(229, 236, 246); stroke-opacity: 1;\"/><text class=\"bartext bartext-outside\" text-anchor=\"middle\" data-notex=\"1\" x=\"0\" y=\"0\" style=\"font-family: Montserrat; font-size: 13px; fill: rgb(0, 0, 0); fill-opacity: 1; white-space: pre;\" transform=\"translate(253.908125,210.9546875)\">157</text></g><g class=\"point\"><path d=\"M0,258.23V240.87H237.27V258.23Z\" style=\"vector-effect: non-scaling-stroke; opacity: 1; stroke-width: 0.5px; fill: rgb(60, 152, 202); fill-opacity: 1; stroke: rgb(229, 236, 246); stroke-opacity: 1;\"/><text class=\"bartext bartext-outside\" text-anchor=\"middle\" data-notex=\"1\" x=\"0\" y=\"0\" style=\"font-family: Montserrat; font-size: 13px; fill: rgb(0, 0, 0); fill-opacity: 1; white-space: pre;\" transform=\"translate(250.754375,254.3546875)\">155</text></g><g class=\"point\"><path d=\"M0,279.93V262.57H232.68V279.93Z\" style=\"vector-effect: non-scaling-stroke; opacity: 1; stroke-width: 0.5px; fill: rgb(60, 152, 202); fill-opacity: 1; stroke: rgb(229, 236, 246); stroke-opacity: 1;\"/><text class=\"bartext bartext-outside\" text-anchor=\"middle\" data-notex=\"1\" x=\"0\" y=\"0\" style=\"font-family: Montserrat; font-size: 13px; fill: rgb(0, 0, 0); fill-opacity: 1; white-space: pre;\" transform=\"translate(246.18,276.0546875)\">152</text></g><g class=\"point\"><path d=\"M0,301.63V284.27H215.84V301.63Z\" style=\"vector-effect: non-scaling-stroke; opacity: 1; stroke-width: 0.5px; fill: rgb(60, 152, 202); fill-opacity: 1; stroke: rgb(229, 236, 246); stroke-opacity: 1;\"/><text class=\"bartext bartext-outside\" text-anchor=\"middle\" data-notex=\"1\" x=\"0\" y=\"0\" style=\"font-family: Montserrat; font-size: 13px; fill: rgb(0, 0, 0); fill-opacity: 1; white-space: pre;\" transform=\"translate(228.480625,297.7546875)\">141</text></g><g class=\"point\"><path d=\"M0,323.33V305.97H209.72V323.33Z\" style=\"vector-effect: non-scaling-stroke; opacity: 1; stroke-width: 0.5px; fill: rgb(60, 152, 202); fill-opacity: 1; stroke: rgb(229, 236, 246); stroke-opacity: 1;\"/><text class=\"bartext bartext-outside\" text-anchor=\"middle\" data-notex=\"1\" x=\"0\" y=\"0\" style=\"font-family: Montserrat; font-size: 13px; fill: rgb(0, 0, 0); fill-opacity: 1; white-space: pre;\" transform=\"translate(223.2825,319.4546875)\">137</text></g><g class=\"point\"><path d=\"M0,345.03V327.67H202.06V345.03Z\" style=\"vector-effect: non-scaling-stroke; opacity: 1; stroke-width: 0.5px; fill: rgb(60, 152, 202); fill-opacity: 1; stroke: rgb(229, 236, 246); stroke-opacity: 1;\"/><text class=\"bartext bartext-outside\" text-anchor=\"middle\" data-notex=\"1\" x=\"0\" y=\"0\" style=\"font-family: Montserrat; font-size: 13px; fill: rgb(0, 0, 0); fill-opacity: 1; white-space: pre;\" transform=\"translate(215.544375,341.1546875)\">132</text></g><g class=\"point\"><path d=\"M0,366.73V349.37H200.53V366.73Z\" style=\"vector-effect: non-scaling-stroke; opacity: 1; stroke-width: 0.5px; fill: rgb(60, 152, 202); fill-opacity: 1; stroke: rgb(229, 236, 246); stroke-opacity: 1;\"/><text class=\"bartext bartext-outside\" text-anchor=\"middle\" data-notex=\"1\" x=\"0\" y=\"0\" style=\"font-family: Montserrat; font-size: 13px; fill: rgb(0, 0, 0); fill-opacity: 1; white-space: pre;\" transform=\"translate(212.701875,362.8546875)\">131</text></g><g class=\"point\"><path d=\"M0,388.43V371.07H197.47V388.43Z\" style=\"vector-effect: non-scaling-stroke; opacity: 1; stroke-width: 0.5px; fill: rgb(60, 152, 202); fill-opacity: 1; stroke: rgb(229, 236, 246); stroke-opacity: 1;\"/><text class=\"bartext bartext-outside\" text-anchor=\"middle\" data-notex=\"1\" x=\"0\" y=\"0\" style=\"font-family: Montserrat; font-size: 13px; fill: rgb(0, 0, 0); fill-opacity: 1; white-space: pre;\" transform=\"translate(211.2825,384.5546875)\">129</text></g><g class=\"point\"><path d=\"M0,410.13V392.77H194.41V410.13Z\" style=\"vector-effect: non-scaling-stroke; opacity: 1; stroke-width: 0.5px; fill: rgb(60, 152, 202); fill-opacity: 1; stroke: rgb(229, 236, 246); stroke-opacity: 1;\"/><text class=\"bartext bartext-outside\" text-anchor=\"middle\" data-notex=\"1\" x=\"0\" y=\"0\" style=\"font-family: Montserrat; font-size: 13px; fill: rgb(0, 0, 0); fill-opacity: 1; white-space: pre;\" transform=\"translate(208.06625,406.2546875)\">127</text></g><g class=\"point\"><path d=\"M0,431.83V414.47H189.82V431.83Z\" style=\"vector-effect: non-scaling-stroke; opacity: 1; stroke-width: 0.5px; fill: rgb(60, 152, 202); fill-opacity: 1; stroke: rgb(229, 236, 246); stroke-opacity: 1;\"/><text class=\"bartext bartext-outside\" text-anchor=\"middle\" data-notex=\"1\" x=\"0\" y=\"0\" style=\"font-family: Montserrat; font-size: 13px; fill: rgb(0, 0, 0); fill-opacity: 1; white-space: pre;\" transform=\"translate(203.82,427.9546875)\">124</text></g><g class=\"point\"><path d=\"M0,453.53V436.17H186.75V453.53Z\" style=\"vector-effect: non-scaling-stroke; opacity: 1; stroke-width: 0.5px; fill: rgb(60, 152, 202); fill-opacity: 1; stroke: rgb(229, 236, 246); stroke-opacity: 1;\"/><text class=\"bartext bartext-outside\" text-anchor=\"middle\" data-notex=\"1\" x=\"0\" y=\"0\" style=\"font-family: Montserrat; font-size: 13px; fill: rgb(0, 0, 0); fill-opacity: 1; white-space: pre;\" transform=\"translate(200.28125,449.6546875)\">122</text></g><g class=\"point\"><path d=\"M0,475.23V457.87H182.16V475.23Z\" style=\"vector-effect: non-scaling-stroke; opacity: 1; stroke-width: 0.5px; fill: rgb(60, 152, 202); fill-opacity: 1; stroke: rgb(229, 236, 246); stroke-opacity: 1;\"/><text class=\"bartext bartext-outside\" text-anchor=\"middle\" data-notex=\"1\" x=\"0\" y=\"0\" style=\"font-family: Montserrat; font-size: 13px; fill: rgb(0, 0, 0); fill-opacity: 1; white-space: pre;\" transform=\"translate(194.613125,471.3546875)\">119</text></g><g class=\"point\"><path d=\"M0,496.93V479.57H179.1V496.93Z\" style=\"vector-effect: non-scaling-stroke; opacity: 1; stroke-width: 0.5px; fill: rgb(60, 152, 202); fill-opacity: 1; stroke: rgb(229, 236, 246); stroke-opacity: 1;\"/><text class=\"bartext bartext-outside\" text-anchor=\"middle\" data-notex=\"1\" x=\"0\" y=\"0\" style=\"font-family: Montserrat; font-size: 13px; fill: rgb(0, 0, 0); fill-opacity: 1; white-space: pre;\" transform=\"translate(191.428125,493.0546875)\">117</text></g><g class=\"point\"><path d=\"M0,518.63V501.27H165.32V518.63Z\" style=\"vector-effect: non-scaling-stroke; opacity: 1; stroke-width: 0.5px; fill: rgb(60, 152, 202); fill-opacity: 1; stroke: rgb(229, 236, 246); stroke-opacity: 1;\"/><text class=\"bartext bartext-outside\" text-anchor=\"middle\" data-notex=\"1\" x=\"0\" y=\"0\" style=\"font-family: Montserrat; font-size: 13px; fill: rgb(0, 0, 0); fill-opacity: 1; white-space: pre;\" transform=\"translate(179.929375,514.7546875)\">108</text></g><g class=\"point\"><path d=\"M0,562.03V544.67H153.08V562.03Z\" style=\"vector-effect: non-scaling-stroke; opacity: 1; stroke-width: 0.5px; fill: rgb(60, 152, 202); fill-opacity: 1; stroke: rgb(229, 236, 246); stroke-opacity: 1;\"/><text class=\"bartext bartext-outside\" text-anchor=\"middle\" data-notex=\"1\" x=\"0\" y=\"0\" style=\"font-family: Montserrat; font-size: 13px; fill: rgb(0, 0, 0); fill-opacity: 1; white-space: pre;\" transform=\"translate(167.845625,558.1546874999999)\">100</text></g><g class=\"point\"><path d=\"M0,540.33V522.97H153.08V540.33Z\" style=\"vector-effect: non-scaling-stroke; opacity: 1; stroke-width: 0.5px; fill: rgb(60, 152, 202); fill-opacity: 1; stroke: rgb(229, 236, 246); stroke-opacity: 1;\"/><text class=\"bartext bartext-outside\" text-anchor=\"middle\" data-notex=\"1\" x=\"0\" y=\"0\" style=\"font-family: Montserrat; font-size: 13px; fill: rgb(0, 0, 0); fill-opacity: 1; white-space: pre;\" transform=\"translate(167.845625,536.4546875000001)\">100</text></g><g class=\"point\"><path d=\"M0,583.73V566.37H146.95V583.73Z\" style=\"vector-effect: non-scaling-stroke; opacity: 1; stroke-width: 0.5px; fill: rgb(60, 152, 202); fill-opacity: 1; stroke: rgb(229, 236, 246); stroke-opacity: 1;\"/><text class=\"bartext bartext-outside\" text-anchor=\"middle\" data-notex=\"1\" x=\"0\" y=\"0\" style=\"font-family: Montserrat; font-size: 13px; fill: rgb(0, 0, 0); fill-opacity: 1; white-space: pre;\" transform=\"translate(157.871875,579.8546875)\">96</text></g><g class=\"point\"><path d=\"M0,627.13V609.77H140.83V627.13Z\" style=\"vector-effect: non-scaling-stroke; opacity: 1; stroke-width: 0.5px; fill: rgb(60, 152, 202); fill-opacity: 1; stroke: rgb(229, 236, 246); stroke-opacity: 1;\"/><text class=\"bartext bartext-outside\" text-anchor=\"middle\" data-notex=\"1\" x=\"0\" y=\"0\" style=\"font-family: Montserrat; font-size: 13px; fill: rgb(0, 0, 0); fill-opacity: 1; white-space: pre;\" transform=\"translate(151.470625,623.2546875)\">92</text></g><g class=\"point\"><path d=\"M0,605.43V588.07H140.83V605.43Z\" style=\"vector-effect: non-scaling-stroke; opacity: 1; stroke-width: 0.5px; fill: rgb(60, 152, 202); fill-opacity: 1; stroke: rgb(229, 236, 246); stroke-opacity: 1;\"/><text class=\"bartext bartext-outside\" text-anchor=\"middle\" data-notex=\"1\" x=\"0\" y=\"0\" style=\"font-family: Montserrat; font-size: 13px; fill: rgb(0, 0, 0); fill-opacity: 1; white-space: pre;\" transform=\"translate(151.470625,601.5546875)\">92</text></g><g class=\"point\"><path d=\"M0,670.53V653.17H128.59V670.53Z\" style=\"vector-effect: non-scaling-stroke; opacity: 1; stroke-width: 0.5px; fill: rgb(60, 152, 202); fill-opacity: 1; stroke: rgb(229, 236, 246); stroke-opacity: 1;\"/><text class=\"bartext bartext-outside\" text-anchor=\"middle\" data-notex=\"1\" x=\"0\" y=\"0\" style=\"font-family: Montserrat; font-size: 13px; fill: rgb(0, 0, 0); fill-opacity: 1; white-space: pre;\" transform=\"translate(140.043125,666.6546874999999)\">84</text></g><g class=\"point\"><path d=\"M0,648.83V631.47H128.59V648.83Z\" style=\"vector-effect: non-scaling-stroke; opacity: 1; stroke-width: 0.5px; fill: rgb(60, 152, 202); fill-opacity: 1; stroke: rgb(229, 236, 246); stroke-opacity: 1;\"/><text class=\"bartext bartext-outside\" text-anchor=\"middle\" data-notex=\"1\" x=\"0\" y=\"0\" style=\"font-family: Montserrat; font-size: 13px; fill: rgb(0, 0, 0); fill-opacity: 1; white-space: pre;\" transform=\"translate(140.043125,644.9546875000001)\">84</text></g><g class=\"point\"><path d=\"M0,692.23V674.87H122.46V692.23Z\" style=\"vector-effect: non-scaling-stroke; opacity: 1; stroke-width: 0.5px; fill: rgb(60, 152, 202); fill-opacity: 1; stroke: rgb(229, 236, 246); stroke-opacity: 1;\"/><text class=\"bartext bartext-outside\" text-anchor=\"middle\" data-notex=\"1\" x=\"0\" y=\"0\" style=\"font-family: Montserrat; font-size: 13px; fill: rgb(0, 0, 0); fill-opacity: 1; white-space: pre;\" transform=\"translate(133.91312499999998,688.3546875)\">80</text></g><g class=\"point\"><path d=\"M0,757.33V739.97H120.93V757.33Z\" style=\"vector-effect: non-scaling-stroke; opacity: 1; stroke-width: 0.5px; fill: rgb(60, 152, 202); fill-opacity: 1; stroke: rgb(229, 236, 246); stroke-opacity: 1;\"/><text class=\"bartext bartext-outside\" text-anchor=\"middle\" data-notex=\"1\" x=\"0\" y=\"0\" style=\"font-family: Montserrat; font-size: 13px; fill: rgb(0, 0, 0); fill-opacity: 1; white-space: pre;\" transform=\"translate(131.726875,753.4546875000001)\">79</text></g><g class=\"point\"><path d=\"M0,735.63V718.27H120.93V735.63Z\" style=\"vector-effect: non-scaling-stroke; opacity: 1; stroke-width: 0.5px; fill: rgb(60, 152, 202); fill-opacity: 1; stroke: rgb(229, 236, 246); stroke-opacity: 1;\"/><text class=\"bartext bartext-outside\" text-anchor=\"middle\" data-notex=\"1\" x=\"0\" y=\"0\" style=\"font-family: Montserrat; font-size: 13px; fill: rgb(0, 0, 0); fill-opacity: 1; white-space: pre;\" transform=\"translate(131.726875,731.7546875)\">79</text></g><g class=\"point\"><path d=\"M0,713.93V696.57H120.93V713.93Z\" style=\"vector-effect: non-scaling-stroke; opacity: 1; stroke-width: 0.5px; fill: rgb(60, 152, 202); fill-opacity: 1; stroke: rgb(229, 236, 246); stroke-opacity: 1;\"/><text class=\"bartext bartext-outside\" text-anchor=\"middle\" data-notex=\"1\" x=\"0\" y=\"0\" style=\"font-family: Montserrat; font-size: 13px; fill: rgb(0, 0, 0); fill-opacity: 1; white-space: pre;\" transform=\"translate(131.726875,710.0546875)\">79</text></g><g class=\"point\"><path d=\"M0,800.73V783.37H117.87V800.73Z\" style=\"vector-effect: non-scaling-stroke; opacity: 1; stroke-width: 0.5px; fill: rgb(60, 152, 202); fill-opacity: 1; stroke: rgb(229, 236, 246); stroke-opacity: 1;\"/><text class=\"bartext bartext-outside\" text-anchor=\"middle\" data-notex=\"1\" x=\"0\" y=\"0\" style=\"font-family: Montserrat; font-size: 13px; fill: rgb(0, 0, 0); fill-opacity: 1; white-space: pre;\" transform=\"translate(128.541875,796.8546875)\">77</text></g><g class=\"point\"><path d=\"M0,779.03V761.67H117.87V779.03Z\" style=\"vector-effect: non-scaling-stroke; opacity: 1; stroke-width: 0.5px; fill: rgb(60, 152, 202); fill-opacity: 1; stroke: rgb(229, 236, 246); stroke-opacity: 1;\"/><text class=\"bartext bartext-outside\" text-anchor=\"middle\" data-notex=\"1\" x=\"0\" y=\"0\" style=\"font-family: Montserrat; font-size: 13px; fill: rgb(0, 0, 0); fill-opacity: 1; white-space: pre;\" transform=\"translate(128.541875,775.1546874999999)\">77</text></g><g class=\"point\"><path d=\"M0,822.43V805.07H111.75V822.43Z\" style=\"vector-effect: non-scaling-stroke; opacity: 1; stroke-width: 0.5px; fill: rgb(60, 152, 202); fill-opacity: 1; stroke: rgb(229, 236, 246); stroke-opacity: 1;\"/><text class=\"bartext bartext-outside\" text-anchor=\"middle\" data-notex=\"1\" x=\"0\" y=\"0\" style=\"font-family: Montserrat; font-size: 13px; fill: rgb(0, 0, 0); fill-opacity: 1; white-space: pre;\" transform=\"translate(122.1875,818.5546875)\">73</text></g><g class=\"point\"><path d=\"M0,844.13V826.77H108.69V844.13Z\" style=\"vector-effect: non-scaling-stroke; opacity: 1; stroke-width: 0.5px; fill: rgb(60, 152, 202); fill-opacity: 1; stroke: rgb(229, 236, 246); stroke-opacity: 1;\"/><text class=\"bartext bartext-outside\" text-anchor=\"middle\" data-notex=\"1\" x=\"0\" y=\"0\" style=\"font-family: Montserrat; font-size: 13px; fill: rgb(0, 0, 0); fill-opacity: 1; white-space: pre;\" transform=\"translate(117.94,840.2546875)\">71</text></g><g class=\"point\"><path d=\"M0,865.83V848.47H101.03V865.83Z\" style=\"vector-effect: non-scaling-stroke; opacity: 1; stroke-width: 0.5px; fill: rgb(60, 152, 202); fill-opacity: 1; stroke: rgb(229, 236, 246); stroke-opacity: 1;\"/><text class=\"bartext bartext-outside\" text-anchor=\"middle\" data-notex=\"1\" x=\"0\" y=\"0\" style=\"font-family: Montserrat; font-size: 13px; fill: rgb(0, 0, 0); fill-opacity: 1; white-space: pre;\" transform=\"translate(111.951875,861.9546875000001)\">66</text></g><g class=\"point\"><path d=\"M0,887.53V870.17H94.91V887.53Z\" style=\"vector-effect: non-scaling-stroke; opacity: 1; stroke-width: 0.5px; fill: rgb(60, 152, 202); fill-opacity: 1; stroke: rgb(229, 236, 246); stroke-opacity: 1;\"/><text class=\"bartext bartext-outside\" text-anchor=\"middle\" data-notex=\"1\" x=\"0\" y=\"0\" style=\"font-family: Montserrat; font-size: 13px; fill: rgb(0, 0, 0); fill-opacity: 1; white-space: pre;\" transform=\"translate(105.56625,883.6546874999999)\">62</text></g><g class=\"point\"><path d=\"M0,909.23V891.87H79.6V909.23Z\" style=\"vector-effect: non-scaling-stroke; opacity: 1; stroke-width: 0.5px; fill: rgb(60, 152, 202); fill-opacity: 1; stroke: rgb(229, 236, 246); stroke-opacity: 1;\"/><text class=\"bartext bartext-outside\" text-anchor=\"middle\" data-notex=\"1\" x=\"0\" y=\"0\" style=\"font-family: Montserrat; font-size: 13px; fill: rgb(0, 0, 0); fill-opacity: 1; white-space: pre;\" transform=\"translate(89.94375,905.3546875)\">52</text></g><g class=\"point\"><path d=\"M0,952.63V935.27H78.07V952.63Z\" style=\"vector-effect: non-scaling-stroke; opacity: 1; stroke-width: 0.5px; fill: rgb(60, 152, 202); fill-opacity: 1; stroke: rgb(229, 236, 246); stroke-opacity: 1;\"/><text class=\"bartext bartext-outside\" text-anchor=\"middle\" data-notex=\"1\" x=\"0\" y=\"0\" style=\"font-family: Montserrat; font-size: 13px; fill: rgb(0, 0, 0); fill-opacity: 1; white-space: pre;\" transform=\"translate(87.10125,948.7546875)\">51</text></g><g class=\"point\"><path d=\"M0,930.93V913.57H78.07V930.93Z\" style=\"vector-effect: non-scaling-stroke; opacity: 1; stroke-width: 0.5px; fill: rgb(60, 152, 202); fill-opacity: 1; stroke: rgb(229, 236, 246); stroke-opacity: 1;\"/><text class=\"bartext bartext-outside\" text-anchor=\"middle\" data-notex=\"1\" x=\"0\" y=\"0\" style=\"font-family: Montserrat; font-size: 13px; fill: rgb(0, 0, 0); fill-opacity: 1; white-space: pre;\" transform=\"translate(87.10125,927.0546875)\">51</text></g><g class=\"point\"><path d=\"M0,974.33V956.97H70.42V974.33Z\" style=\"vector-effect: non-scaling-stroke; opacity: 1; stroke-width: 0.5px; fill: rgb(60, 152, 202); fill-opacity: 1; stroke: rgb(229, 236, 246); stroke-opacity: 1;\"/><text class=\"bartext bartext-outside\" text-anchor=\"middle\" data-notex=\"1\" x=\"0\" y=\"0\" style=\"font-family: Montserrat; font-size: 13px; fill: rgb(0, 0, 0); fill-opacity: 1; white-space: pre;\" transform=\"translate(81.685625,970.4546875000001)\">46</text></g><g class=\"point\"><path d=\"M0,996.03V978.67H65.82V996.03Z\" style=\"vector-effect: non-scaling-stroke; opacity: 1; stroke-width: 0.5px; fill: rgb(60, 152, 202); fill-opacity: 1; stroke: rgb(229, 236, 246); stroke-opacity: 1;\"/><text class=\"bartext bartext-outside\" text-anchor=\"middle\" data-notex=\"1\" x=\"0\" y=\"0\" style=\"font-family: Montserrat; font-size: 13px; fill: rgb(0, 0, 0); fill-opacity: 1; white-space: pre;\" transform=\"translate(76.695,992.1546874999999)\">43</text></g><g class=\"point\"><path d=\"M0,1039.43V1022.07H64.29V1039.43Z\" style=\"vector-effect: non-scaling-stroke; opacity: 1; stroke-width: 0.5px; fill: rgb(60, 152, 202); fill-opacity: 1; stroke: rgb(229, 236, 246); stroke-opacity: 1;\"/><text class=\"bartext bartext-outside\" text-anchor=\"middle\" data-notex=\"1\" x=\"0\" y=\"0\" style=\"font-family: Montserrat; font-size: 13px; fill: rgb(0, 0, 0); fill-opacity: 1; white-space: pre;\" transform=\"translate(75.25875,1035.5546875)\">42</text></g><g class=\"point\"><path d=\"M0,1017.73V1000.37H64.29V1017.73Z\" style=\"vector-effect: non-scaling-stroke; opacity: 1; stroke-width: 0.5px; fill: rgb(60, 152, 202); fill-opacity: 1; stroke: rgb(229, 236, 246); stroke-opacity: 1;\"/><text class=\"bartext bartext-outside\" text-anchor=\"middle\" data-notex=\"1\" x=\"0\" y=\"0\" style=\"font-family: Montserrat; font-size: 13px; fill: rgb(0, 0, 0); fill-opacity: 1; white-space: pre;\" transform=\"translate(75.25875,1013.8546875)\">42</text></g><g class=\"point\"><path d=\"M0,1061.13V1043.77H61.23V1061.13Z\" style=\"vector-effect: non-scaling-stroke; opacity: 1; stroke-width: 0.5px; fill: rgb(60, 152, 202); fill-opacity: 1; stroke: rgb(229, 236, 246); stroke-opacity: 1;\"/><text class=\"bartext bartext-outside\" text-anchor=\"middle\" data-notex=\"1\" x=\"0\" y=\"0\" style=\"font-family: Montserrat; font-size: 13px; fill: rgb(0, 0, 0); fill-opacity: 1; white-space: pre;\" transform=\"translate(72.83937499999999,1057.2546875)\">40</text></g><g class=\"point\"><path d=\"M0,1082.83V1065.47H58.17V1082.83Z\" style=\"vector-effect: non-scaling-stroke; opacity: 1; stroke-width: 0.5px; fill: rgb(60, 152, 202); fill-opacity: 1; stroke: rgb(229, 236, 246); stroke-opacity: 1;\"/><text class=\"bartext bartext-outside\" text-anchor=\"middle\" data-notex=\"1\" x=\"0\" y=\"0\" style=\"font-family: Montserrat; font-size: 13px; fill: rgb(0, 0, 0); fill-opacity: 1; white-space: pre;\" transform=\"translate(69.795,1078.9546875)\">38</text></g></g></g></g></g><g class=\"overplot\"/><path class=\"xlines-above crisp\" d=\"M0,0\" style=\"fill: none;\"/><path class=\"ylines-above crisp\" d=\"M0,0\" style=\"fill: none;\"/><g class=\"overlines-above\"/><g class=\"xaxislayer-above\"><g class=\"xtick\"><text text-anchor=\"middle\" x=\"0\" y=\"1159\" transform=\"translate(190,0)\" style=\"font-family: Montserrat; font-size: 13px; fill: rgb(0, 0, 0); fill-opacity: 1; white-space: pre;\">0</text></g><g class=\"xtick\"><text text-anchor=\"middle\" x=\"0\" y=\"1159\" transform=\"translate(343.08000000000004,0)\" style=\"font-family: Montserrat; font-size: 13px; fill: rgb(0, 0, 0); fill-opacity: 1; white-space: pre;\">100</text></g><g class=\"xtick\"><text text-anchor=\"middle\" x=\"0\" y=\"1159\" transform=\"translate(496.16,0)\" style=\"font-family: Montserrat; font-size: 13px; fill: rgb(0, 0, 0); fill-opacity: 1; white-space: pre;\">200</text></g><g class=\"xtick\"><text text-anchor=\"middle\" x=\"0\" y=\"1159\" transform=\"translate(649.23,0)\" style=\"font-family: Montserrat; font-size: 13px; fill: rgb(0, 0, 0); fill-opacity: 1; white-space: pre;\">300</text></g><g class=\"xtick\"><text text-anchor=\"middle\" x=\"0\" y=\"1159\" transform=\"translate(802.31,0)\" style=\"font-family: Montserrat; font-size: 13px; fill: rgb(0, 0, 0); fill-opacity: 1; white-space: pre;\">400</text></g><g class=\"xtick\"><text text-anchor=\"middle\" x=\"0\" y=\"1159\" transform=\"translate(955.39,0)\" style=\"font-family: Montserrat; font-size: 13px; fill: rgb(0, 0, 0); fill-opacity: 1; white-space: pre;\">500</text></g></g><g class=\"yaxislayer-above\"><g class=\"ytick\"><text text-anchor=\"end\" x=\"189\" y=\"4.55\" transform=\"translate(0,1134.15)\" style=\"font-family: Montserrat; font-size: 13px; fill: rgb(0, 0, 0); fill-opacity: 1; white-space: pre;\">Saudi Arabia</text></g><g class=\"ytick\"><text text-anchor=\"end\" x=\"189\" y=\"4.55\" transform=\"translate(0,1112.45)\" style=\"font-family: Montserrat; font-size: 13px; fill: rgb(0, 0, 0); fill-opacity: 1; white-space: pre;\">Panama</text></g><g class=\"ytick\"><text text-anchor=\"end\" x=\"189\" y=\"4.55\" transform=\"translate(0,1090.75)\" style=\"font-family: Montserrat; font-size: 13px; fill: rgb(0, 0, 0); fill-opacity: 1; white-space: pre;\">Japan</text></g><g class=\"ytick\"><text text-anchor=\"end\" x=\"189\" y=\"4.55\" transform=\"translate(0,1069.05)\" style=\"font-family: Montserrat; font-size: 13px; fill: rgb(0, 0, 0); fill-opacity: 1; white-space: pre;\">Norway</text></g><g class=\"ytick\"><text text-anchor=\"end\" x=\"189\" y=\"4.55\" transform=\"translate(0,1047.35)\" style=\"font-family: Montserrat; font-size: 13px; fill: rgb(0, 0, 0); fill-opacity: 1; white-space: pre;\">Cameroon</text></g><g class=\"ytick\"><text text-anchor=\"end\" x=\"189\" y=\"4.55\" transform=\"translate(0,1025.65)\" style=\"font-family: Montserrat; font-size: 13px; fill: rgb(0, 0, 0); fill-opacity: 1; white-space: pre;\">France</text></g><g class=\"ytick\"><text text-anchor=\"end\" x=\"189\" y=\"4.55\" transform=\"translate(0,1003.95)\" style=\"font-family: Montserrat; font-size: 13px; fill: rgb(0, 0, 0); fill-opacity: 1; white-space: pre;\">Switzerland</text></g><g class=\"ytick\"><text text-anchor=\"end\" x=\"189\" y=\"4.55\" transform=\"translate(0,982.25)\" style=\"font-family: Montserrat; font-size: 13px; fill: rgb(0, 0, 0); fill-opacity: 1; white-space: pre;\">Pakistan</text></g><g class=\"ytick\"><text text-anchor=\"end\" x=\"189\" y=\"4.55\" transform=\"translate(0,960.55)\" style=\"font-family: Montserrat; font-size: 13px; fill: rgb(0, 0, 0); fill-opacity: 1; white-space: pre;\">El Salvador</text></g><g class=\"ytick\"><text text-anchor=\"end\" x=\"189\" y=\"4.55\" transform=\"translate(0,938.85)\" style=\"font-family: Montserrat; font-size: 13px; fill: rgb(0, 0, 0); fill-opacity: 1; white-space: pre;\">South Africa</text></g><g class=\"ytick\"><text text-anchor=\"end\" x=\"189\" y=\"4.55\" transform=\"translate(0,917.15)\" style=\"font-family: Montserrat; font-size: 13px; fill: rgb(0, 0, 0); fill-opacity: 1; white-space: pre;\">Cyprus</text></g><g class=\"ytick\"><text text-anchor=\"end\" x=\"189\" y=\"4.55\" transform=\"translate(0,895.45)\" style=\"font-family: Montserrat; font-size: 13px; fill: rgb(0, 0, 0); fill-opacity: 1; white-space: pre;\">Bangladesh</text></g><g class=\"ytick\"><text text-anchor=\"end\" x=\"189\" y=\"4.55\" transform=\"translate(0,873.75)\" style=\"font-family: Montserrat; font-size: 13px; fill: rgb(0, 0, 0); fill-opacity: 1; white-space: pre;\">Dominican Republic</text></g><g class=\"ytick\"><text text-anchor=\"end\" x=\"189\" y=\"4.55\" transform=\"translate(0,852.05)\" style=\"font-family: Montserrat; font-size: 13px; fill: rgb(0, 0, 0); fill-opacity: 1; white-space: pre;\">Mexico</text></g><g class=\"ytick\"><text text-anchor=\"end\" x=\"189\" y=\"4.55\" transform=\"translate(0,830.35)\" style=\"font-family: Montserrat; font-size: 13px; fill: rgb(0, 0, 0); fill-opacity: 1; white-space: pre;\">Zambia</text></g><g class=\"ytick\"><text text-anchor=\"end\" x=\"189\" y=\"4.55\" transform=\"translate(0,808.65)\" style=\"font-family: Montserrat; font-size: 13px; fill: rgb(0, 0, 0); fill-opacity: 1; white-space: pre;\">Macao</text></g><g class=\"ytick\"><text text-anchor=\"end\" x=\"189\" y=\"4.55\" transform=\"translate(0,786.95)\" style=\"font-family: Montserrat; font-size: 13px; fill: rgb(0, 0, 0); fill-opacity: 1; white-space: pre;\">Colombia</text></g><g class=\"ytick\"><text text-anchor=\"end\" x=\"189\" y=\"4.55\" transform=\"translate(0,765.25)\" style=\"font-family: Montserrat; font-size: 13px; fill: rgb(0, 0, 0); fill-opacity: 1; white-space: pre;\">Spain</text></g><g class=\"ytick\"><text text-anchor=\"end\" x=\"189\" y=\"4.55\" transform=\"translate(0,743.55)\" style=\"font-family: Montserrat; font-size: 13px; fill: rgb(0, 0, 0); fill-opacity: 1; white-space: pre;\">Brazil</text></g><g class=\"ytick\"><text text-anchor=\"end\" x=\"189\" y=\"4.55\" transform=\"translate(0,721.85)\" style=\"font-family: Montserrat; font-size: 13px; fill: rgb(0, 0, 0); fill-opacity: 1; white-space: pre;\">Mauritius</text></g><g class=\"ytick\"><text text-anchor=\"end\" x=\"189\" y=\"4.55\" transform=\"translate(0,700.15)\" style=\"font-family: Montserrat; font-size: 13px; fill: rgb(0, 0, 0); fill-opacity: 1; white-space: pre;\">Italy</text></g><g class=\"ytick\"><text text-anchor=\"end\" x=\"189\" y=\"4.55\" transform=\"translate(0,678.45)\" style=\"font-family: Montserrat; font-size: 13px; fill: rgb(0, 0, 0); fill-opacity: 1; white-space: pre;\">Chile</text></g><g class=\"ytick\"><text text-anchor=\"end\" x=\"189\" y=\"4.55\" transform=\"translate(0,656.75)\" style=\"font-family: Montserrat; font-size: 13px; fill: rgb(0, 0, 0); fill-opacity: 1; white-space: pre;\">Canada</text></g><g class=\"ytick\"><text text-anchor=\"end\" x=\"189\" y=\"4.55\" transform=\"translate(0,635.05)\" style=\"font-family: Montserrat; font-size: 13px; fill: rgb(0, 0, 0); fill-opacity: 1; white-space: pre;\">Sri Lanka</text></g><g class=\"ytick\"><text text-anchor=\"end\" x=\"189\" y=\"4.55\" transform=\"translate(0,613.35)\" style=\"font-family: Montserrat; font-size: 13px; fill: rgb(0, 0, 0); fill-opacity: 1; white-space: pre;\">Cuba</text></g><g class=\"ytick\"><text text-anchor=\"end\" x=\"189\" y=\"4.55\" transform=\"translate(0,591.65)\" style=\"font-family: Montserrat; font-size: 13px; fill: rgb(0, 0, 0); fill-opacity: 1; white-space: pre;\">Togo</text></g><g class=\"ytick\"><text text-anchor=\"end\" x=\"189\" y=\"4.55\" transform=\"translate(0,569.95)\" style=\"font-family: Montserrat; font-size: 13px; fill: rgb(0, 0, 0); fill-opacity: 1; white-space: pre;\">China</text></g><g class=\"ytick\"><text text-anchor=\"end\" x=\"189\" y=\"4.55\" transform=\"translate(0,548.25)\" style=\"font-family: Montserrat; font-size: 13px; fill: rgb(0, 0, 0); fill-opacity: 1; white-space: pre;\">New Zealand</text></g><g class=\"ytick\"><text text-anchor=\"end\" x=\"189\" y=\"4.55\" transform=\"translate(0,526.55)\" style=\"font-family: Montserrat; font-size: 13px; fill: rgb(0, 0, 0); fill-opacity: 1; white-space: pre;\">Zimbabwe</text></g><g class=\"ytick\"><text text-anchor=\"end\" x=\"189\" y=\"4.55\" transform=\"translate(0,504.85)\" style=\"font-family: Montserrat; font-size: 13px; fill: rgb(0, 0, 0); fill-opacity: 1; white-space: pre;\">Latvia</text></g><g class=\"ytick\"><text text-anchor=\"end\" x=\"189\" y=\"4.55\" transform=\"translate(0,483.15)\" style=\"font-family: Montserrat; font-size: 13px; fill: rgb(0, 0, 0); fill-opacity: 1; white-space: pre;\">United Arab Emirates</text></g><g class=\"ytick\"><text text-anchor=\"end\" x=\"189\" y=\"4.55\" transform=\"translate(0,461.45)\" style=\"font-family: Montserrat; font-size: 13px; fill: rgb(0, 0, 0); fill-opacity: 1; white-space: pre;\">Luxembourg</text></g><g class=\"ytick\"><text text-anchor=\"end\" x=\"189\" y=\"4.55\" transform=\"translate(0,439.75)\" style=\"font-family: Montserrat; font-size: 13px; fill: rgb(0, 0, 0); fill-opacity: 1; white-space: pre;\">India</text></g><g class=\"ytick\"><text text-anchor=\"end\" x=\"189\" y=\"4.55\" transform=\"translate(0,418.05)\" style=\"font-family: Montserrat; font-size: 13px; fill: rgb(0, 0, 0); fill-opacity: 1; white-space: pre;\">Nigeria</text></g><g class=\"ytick\"><text text-anchor=\"end\" x=\"189\" y=\"4.55\" transform=\"translate(0,396.35)\" style=\"font-family: Montserrat; font-size: 13px; fill: rgb(0, 0, 0); fill-opacity: 1; white-space: pre;\">Indonesia</text></g><g class=\"ytick\"><text text-anchor=\"end\" x=\"189\" y=\"4.55\" transform=\"translate(0,374.65)\" style=\"font-family: Montserrat; font-size: 13px; fill: rgb(0, 0, 0); fill-opacity: 1; white-space: pre;\">Ireland</text></g><g class=\"ytick\"><text text-anchor=\"end\" x=\"189\" y=\"4.55\" transform=\"translate(0,352.95)\" style=\"font-family: Montserrat; font-size: 13px; fill: rgb(0, 0, 0); fill-opacity: 1; white-space: pre;\">Australia</text></g><g class=\"ytick\"><text text-anchor=\"end\" x=\"189\" y=\"4.55\" transform=\"translate(0,331.25)\" style=\"font-family: Montserrat; font-size: 13px; fill: rgb(0, 0, 0); fill-opacity: 1; white-space: pre;\">Kenya</text></g><g class=\"ytick\"><text text-anchor=\"end\" x=\"189\" y=\"4.55\" transform=\"translate(0,309.55)\" style=\"font-family: Montserrat; font-size: 13px; fill: rgb(0, 0, 0); fill-opacity: 1; white-space: pre;\">Israel</text></g><g class=\"ytick\"><text text-anchor=\"end\" x=\"189\" y=\"4.55\" transform=\"translate(0,287.85)\" style=\"font-family: Montserrat; font-size: 13px; fill: rgb(0, 0, 0); fill-opacity: 1; white-space: pre;\">Argentina</text></g><g class=\"ytick\"><text text-anchor=\"end\" x=\"189\" y=\"4.55\" transform=\"translate(0,266.15)\" style=\"font-family: Montserrat; font-size: 13px; fill: rgb(0, 0, 0); fill-opacity: 1; white-space: pre;\">Philippines</text></g><g class=\"ytick\"><text text-anchor=\"end\" x=\"189\" y=\"4.55\" transform=\"translate(0,244.45)\" style=\"font-family: Montserrat; font-size: 13px; fill: rgb(0, 0, 0); fill-opacity: 1; white-space: pre;\">Malaysia</text></g><g class=\"ytick\"><text text-anchor=\"end\" x=\"189\" y=\"4.55\" transform=\"translate(0,222.75)\" style=\"font-family: Montserrat; font-size: 13px; fill: rgb(0, 0, 0); fill-opacity: 1; white-space: pre;\">Vietnam</text></g><g class=\"ytick\"><text text-anchor=\"end\" x=\"189\" y=\"4.55\" transform=\"translate(0,201.05)\" style=\"font-family: Montserrat; font-size: 13px; fill: rgb(0, 0, 0); fill-opacity: 1; white-space: pre;\">South Korea</text></g><g class=\"ytick\"><text text-anchor=\"end\" x=\"189\" y=\"4.55\" transform=\"translate(0,179.35)\" style=\"font-family: Montserrat; font-size: 13px; fill: rgb(0, 0, 0); fill-opacity: 1; white-space: pre;\">Ghana</text></g><g class=\"ytick\"><text text-anchor=\"end\" x=\"189\" y=\"4.55\" transform=\"translate(0,157.65)\" style=\"font-family: Montserrat; font-size: 13px; fill: rgb(0, 0, 0); fill-opacity: 1; white-space: pre;\">United States</text></g><g class=\"ytick\"><text text-anchor=\"end\" x=\"189\" y=\"4.55\" transform=\"translate(0,135.95)\" style=\"font-family: Montserrat; font-size: 13px; fill: rgb(0, 0, 0); fill-opacity: 1; white-space: pre;\">United Kingdom</text></g><g class=\"ytick\"><text text-anchor=\"end\" x=\"189\" y=\"4.55\" transform=\"translate(0,114.25)\" style=\"font-family: Montserrat; font-size: 13px; fill: rgb(0, 0, 0); fill-opacity: 1; white-space: pre;\">Taiwan</text></g><g class=\"ytick\"><text text-anchor=\"end\" x=\"189\" y=\"4.55\" transform=\"translate(0,92.55)\" style=\"font-family: Montserrat; font-size: 13px; fill: rgb(0, 0, 0); fill-opacity: 1; white-space: pre;\">Singapore</text></g><g class=\"ytick\"><text text-anchor=\"end\" x=\"189\" y=\"4.55\" transform=\"translate(0,70.85)\" style=\"font-family: Montserrat; font-size: 13px; fill: rgb(0, 0, 0); fill-opacity: 1; white-space: pre;\">Hong Kong</text></g></g><g class=\"overaxes-above\"/></g></g><g class=\"polarlayer\"/><g class=\"ternarylayer\"/><g class=\"geolayer\"/><g class=\"funnelarealayer\"/><g class=\"pielayer\"/><g class=\"treemaplayer\"/><g class=\"sunburstlayer\"/><g class=\"glimages\"/><defs id=\"topdefs-dc38c8\"><g class=\"clips\"/></defs><g class=\"layer-above\"><g class=\"imagelayer\"/><g class=\"shapelayer\"/></g><g class=\"infolayer\"><g class=\"g-gtitle\"><text class=\"gtitle\" x=\"49\" y=\"30\" text-anchor=\"start\" dy=\"0em\" style=\"font-family: Montserrat; font-size: 18px; fill: rgb(0, 0, 0); opacity: 1; font-weight: normal; white-space: pre;\">Top 50 Countries with the Most Searched Fintech Related Keywords in April 2021</text></g><g class=\"g-xtitle\"><text class=\"xtitle\" x=\"573.5\" y=\"1188.403125\" text-anchor=\"middle\" style=\"font-family: Montserrat; font-size: 16px; fill: rgb(0, 0, 0); opacity: 1; font-weight: normal; white-space: pre;\">Total Score</text></g><g class=\"g-ytitle\"><text class=\"ytitle\" transform=\"rotate(-90,22.80000000000001,602.5)\" x=\"22.80000000000001\" y=\"602.5\" text-anchor=\"middle\" style=\"font-family: Montserrat; font-size: 16px; fill: rgb(0, 0, 0); opacity: 1; font-weight: normal; white-space: pre;\">Country</text></g></g></svg>"
      ]
     },
     "metadata": {},
     "output_type": "display_data"
    }
   ],
   "source": [
    "import plotly.graph_objects as go\n",
    "\n",
    "x = world_data['Total']\n",
    "y = world_data['Country']\n",
    "\n",
    "\n",
    "fig = go.Figure(data=[go.Bar(\n",
    "            x=x, y=y,\n",
    "            text=x,\n",
    "            textposition='outside',\n",
    "            #color_continuous_scale='Blues',\n",
    "            marker_color=\"#3C98CA\", #color relevant to FNN\n",
    "            orientation='h',\n",
    "        )],)\n",
    "fig.update_layout(margin=dict(l=190, r=20, t=60, b=15), \n",
    "                  plot_bgcolor=\"white\",\n",
    "                  paper_bgcolor=\"#E4E4E4\",\n",
    "                  yaxis={'categoryorder':'total ascending'},\n",
    "                  barmode='group', height=1200,\n",
    "                  #title=\"Top 50 Countries with the Most Searched Fintech Keywords in April 2021\",\n",
    "                  title_text=\"Top {} Countries with the Most Searched Fintech Related Keywords in {} {}\".format(countries_to_visualize, last_day_of_previous_month.strftime('%B'), last_day_of_previous_month.year),\n",
    "                  xaxis_title=\"Total Score\",\n",
    "                  yaxis_title=\"Country\",\n",
    "                  font=dict(family=\"Montserrat\", size=13, color=\"black\") #title font from FNN site\n",
    ")\n",
    "\n",
    "\n",
    "fig.show(renderer=\"svg\", height=1200, width=980)"
   ]
  },
  {
   "cell_type": "code",
   "execution_count": null,
   "metadata": {},
   "outputs": [],
   "source": []
  }
 ],
 "metadata": {
  "kernelspec": {
   "display_name": "Python 3",
   "language": "python",
   "name": "python3"
  },
  "language_info": {
   "codemirror_mode": {
    "name": "ipython",
    "version": 3
   },
   "file_extension": ".py",
   "mimetype": "text/x-python",
   "name": "python",
   "nbconvert_exporter": "python",
   "pygments_lexer": "ipython3",
   "version": "3.7.4"
  }
 },
 "nbformat": 4,
 "nbformat_minor": 2
}
